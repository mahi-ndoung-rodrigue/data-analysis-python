{
 "cells": [
  {
   "cell_type": "markdown",
   "metadata": {},
   "source": [
    "<p style=\"text-align:center\">\n",
    "    <a href=\"https://skills.network\" target=\"_blank\">\n",
    "    <img src=\"https://cf-courses-data.s3.us.cloud-object-storage.appdomain.cloud/assets/logos/SN_web_lightmode.png\" width=\"300\" alt=\"Skills Network Logo\">\n",
    "    </a>\n",
    "</p>\n"
   ]
  },
  {
   "cell_type": "markdown",
   "metadata": {},
   "source": [
    "# **Hands-on Practice Lab: Model Evaluation and Refinement**\n",
    "\n",
    "Estimated time needed: **45** minutes\n",
    "\n",
    "In this lab, you will use the skills acquired throughout the module, and try to refine your model's performance in predicting the price of a laptop, given the attribute values.\n"
   ]
  },
  {
   "cell_type": "markdown",
   "metadata": {},
   "source": [
    "# Objectives\n",
    "\n",
    "After completing this lab you will be able to:\n",
    "\n",
    " - Use training, testing and cross validation to improve the performance of the dataset. \n",
    " - Identify the point of overfitting of a model\n",
    " - Use Ridge Regression to identify the change in performance of a model based on its hyperparameters\n",
    " - Use Grid Search to identify the best performing model using different hyperparameters\n"
   ]
  },
  {
   "cell_type": "code",
   "execution_count": null,
   "metadata": {},
   "outputs": [],
   "source": [
    "Après avoir terminé cet atelier, vous serez en mesure de :\n",
    "\n",
    "Utilisez l’entraînement, les tests et la validation croisée pour améliorer les performances de l’ensemble de données.\n",
    "Identifier le point de surajustement d’un modèle\n",
    "Utiliser la régression de crête pour identifier la modification des performances d’un modèle en fonction de ses hyperparamètres\n",
    "Utilisez la recherche de grille pour identifier le modèle le plus performant à l’aide de différents hyperparamètres"
   ]
  },
  {
   "cell_type": "markdown",
   "metadata": {},
   "source": [
    "# Setup\n"
   ]
  },
  {
   "cell_type": "markdown",
   "metadata": {},
   "source": [
    "For this lab, we will be using the following libraries:\n",
    "\n",
    "* `skillsnetwork` for downloading the dataset\n",
    "*   [`pandas`](https://pandas.pydata.org/?utm_medium=Exinfluencer&utm_source=Exinfluencer&utm_content=000026UJ&utm_term=10006555&utm_id=NA-SkillsNetwork-Channel-SkillsNetworkCoursesIBMML0187ENSkillsNetwork31430127-2021-01-01) for managing the data.\n",
    "*   [`numpy`](https://numpy.org/?utm_medium=Exinfluencer&utm_source=Exinfluencer&utm_content=000026UJ&utm_term=10006555&utm_id=NA-SkillsNetwork-Channel-SkillsNetworkCoursesIBMML0187ENSkillsNetwork31430127-2021-01-01) for mathematical operations.\n",
    "*   [`sklearn`](https://scikit-learn.org/stable/?utm_medium=Exinfluencer&utm_source=Exinfluencer&utm_content=000026UJ&utm_term=10006555&utm_id=NA-SkillsNetwork-Channel-SkillsNetworkCoursesIBMML0187ENSkillsNetwork31430127-2021-01-01) for machine learning and machine-learning-pipeline related functions.\n",
    "*   [`seaborn`](https://seaborn.pydata.org/?utm_medium=Exinfluencer&utm_source=Exinfluencer&utm_content=000026UJ&utm_term=10006555&utm_id=NA-SkillsNetwork-Channel-SkillsNetworkCoursesIBMML0187ENSkillsNetwork31430127-2021-01-01) for visualizing the data.\n",
    "*   [`matplotlib`](https://matplotlib.org/?utm_medium=Exinfluencer&utm_source=Exinfluencer&utm_content=000026UJ&utm_term=10006555&utm_id=NA-SkillsNetwork-Channel-SkillsNetworkCoursesIBMML0187ENSkillsNetwork31430127-2021-01-01) for additional plotting tools.\n"
   ]
  },
  {
   "cell_type": "code",
   "execution_count": null,
   "metadata": {},
   "outputs": [],
   "source": [
    "skillsnetwork pour télécharger le jeu de données\n",
    "pandas pour gérer les données.\n",
    "numpy pour les opérations mathématiques.\n",
    "SKLEARN pour les fonctions liées à l’apprentissage automatique et au pipeline d’apprentissage automatique.\n",
    "Seaborn pour visualiser les données.\n",
    "matplotlib pour des outils de traçage supplémentaires."
   ]
  },
  {
   "cell_type": "markdown",
   "metadata": {},
   "source": [
    "### Installing Required Libraries\n",
    "\n",
    "The following required libraries are pre-installed in the Skills Network Labs environment. However, if you run this notebook commands in a different Jupyter environment (e.g. Watson Studio or Ananconda), you will need to install these libraries by removing the `#` sign before `%pip` in the code cell below.\n"
   ]
  },
  {
   "cell_type": "markdown",
   "metadata": {},
   "source": [
    "# Installation des bibliothèques requises\n",
    "Les bibliothèques requises suivantes sont préinstallées dans l’environnement Skills Network Labs. Toutefois, si vous exécutez ces commandes de bloc-notes dans un autre environnement Jupyter (par exemple, Watson Studio ou Ananconda), vous devrez installer ces bibliothèques en supprimant le signe # avant %pip dans la cellule de code ci-dessous."
   ]
  },
  {
   "cell_type": "markdown",
   "metadata": {},
   "source": [
    "The following required libraries are __not__ pre-installed in the Skills Network Labs environment. __You will need to run the following cell__ to install them:\n"
   ]
  },
  {
   "cell_type": "markdown",
   "metadata": {},
   "source": [
    "Les bibliothèques requises suivantes ne sont pas préinstallées dans l’environnement Skills Network Labs. Vous devrez exécuter la cellule suivante pour les installer :"
   ]
  },
  {
   "cell_type": "code",
   "execution_count": 1,
   "metadata": {},
   "outputs": [],
   "source": [
    "import piplite\n",
    "await piplite.install('seaborn')\n",
    "await piplite.install(['ipywidgets'])"
   ]
  },
  {
   "cell_type": "markdown",
   "metadata": {},
   "source": [
    "### Importing Required Libraries\n",
    "\n",
    "_We recommend you import all required libraries in one place (here):_\n"
   ]
  },
  {
   "cell_type": "markdown",
   "metadata": {},
   "source": [
    "# Importation des bibliothèques requises\n",
    "Nous vous recommandons d’importer toutes les bibliothèques requises en un seul endroit (ici) :"
   ]
  },
  {
   "cell_type": "code",
   "execution_count": 2,
   "metadata": {},
   "outputs": [],
   "source": [
    "from tqdm import tqdm\n",
    "import numpy as np\n",
    "import pandas as pd\n",
    "import matplotlib.pyplot as plt\n",
    "import seaborn as sns\n",
    "%matplotlib inline\n",
    "from sklearn.model_selection import train_test_split, cross_val_score, GridSearchCV\n",
    "from sklearn.linear_model import LinearRegression, Ridge\n",
    "from sklearn.preprocessing import PolynomialFeatures"
   ]
  },
  {
   "cell_type": "markdown",
   "metadata": {},
   "source": [
    "# Importing the Dataset\n",
    "\n",
    "Run the cell below to donwload the dataset into the console.\n"
   ]
  },
  {
   "cell_type": "code",
   "execution_count": null,
   "metadata": {},
   "outputs": [],
   "source": [
    "Importation du jeu de données\n",
    "Exécutez la cellule ci-dessous pour télécharger le jeu de données dans la console."
   ]
  },
  {
   "cell_type": "code",
   "execution_count": 3,
   "metadata": {},
   "outputs": [],
   "source": [
    "from pyodide.http import pyfetch\n",
    "\n",
    "async def download(url, filename):\n",
    "    response = await pyfetch(url)\n",
    "    if response.status == 200:\n",
    "        with open(filename, \"wb\") as f:\n",
    "            f.write(await response.bytes())"
   ]
  },
  {
   "cell_type": "code",
   "execution_count": 4,
   "metadata": {},
   "outputs": [],
   "source": [
    "filepath = 'https://cf-courses-data.s3.us.cloud-object-storage.appdomain.cloud/IBMDeveloperSkillsNetwork-DA0101EN-Coursera/laptop_pricing_dataset_mod2.csv'"
   ]
  },
  {
   "cell_type": "code",
   "execution_count": 5,
   "metadata": {},
   "outputs": [],
   "source": [
    "await download(filepath, \"laptops.csv\")\n",
    "file_name=\"laptops.csv\""
   ]
  },
  {
   "cell_type": "code",
   "execution_count": 6,
   "metadata": {},
   "outputs": [],
   "source": [
    "df = pd.read_csv(file_name, header=0)"
   ]
  },
  {
   "cell_type": "markdown",
   "metadata": {},
   "source": [
    "> Note: This version of the lab is working on JupyterLite, which requires the dataset to be downloaded to the interface.While working on the downloaded version of this notebook on their local machines(Jupyter Anaconda), the learners can simply **skip the steps above,** and simply use the URL directly in the `pandas.read_csv()` function. You can uncomment and run the statements in the cell below.\n"
   ]
  },
  {
   "cell_type": "markdown",
   "metadata": {},
   "source": [
    "Remarque : Cette version du laboratoire fonctionne sur JupyterLite, ce qui nécessite le téléchargement du jeu de données sur l’interface. En travaillant sur la version téléchargée de ce notebook sur leurs machines locales (Jupyter Anaconda), les apprenants peuvent simplement sauter les étapes ci-dessus et utiliser simplement l’URL directement dans la fonction pandas.read_csv(). Vous pouvez annuler les commentaires et exécuter les instructions dans la cellule ci-dessous."
   ]
  },
  {
   "cell_type": "markdown",
   "metadata": {},
   "source": [
    "Import the data set into a data frame.\n"
   ]
  },
  {
   "cell_type": "code",
   "execution_count": null,
   "metadata": {},
   "outputs": [],
   "source": [
    "#filepath = 'https://cf-courses-data.s3.us.cloud-object-storage.appdomain.cloud/IBMDeveloperSkillsNetwork-DA0101EN-Coursera/laptop_pricing_dataset_mod2.csv'\n",
    "#df = pd.read_csv(filepath, header=None)"
   ]
  },
  {
   "cell_type": "markdown",
   "metadata": {},
   "source": [
    "Print the value of df.head(). \n"
   ]
  },
  {
   "cell_type": "code",
   "execution_count": 7,
   "metadata": {},
   "outputs": [
    {
     "data": {
      "text/html": [
       "<div>\n",
       "<style scoped>\n",
       "    .dataframe tbody tr th:only-of-type {\n",
       "        vertical-align: middle;\n",
       "    }\n",
       "\n",
       "    .dataframe tbody tr th {\n",
       "        vertical-align: top;\n",
       "    }\n",
       "\n",
       "    .dataframe thead th {\n",
       "        text-align: right;\n",
       "    }\n",
       "</style>\n",
       "<table border=\"1\" class=\"dataframe\">\n",
       "  <thead>\n",
       "    <tr style=\"text-align: right;\">\n",
       "      <th></th>\n",
       "      <th>Unnamed: 0.1</th>\n",
       "      <th>Unnamed: 0</th>\n",
       "      <th>Manufacturer</th>\n",
       "      <th>Category</th>\n",
       "      <th>GPU</th>\n",
       "      <th>OS</th>\n",
       "      <th>CPU_core</th>\n",
       "      <th>Screen_Size_inch</th>\n",
       "      <th>CPU_frequency</th>\n",
       "      <th>RAM_GB</th>\n",
       "      <th>Storage_GB_SSD</th>\n",
       "      <th>Weight_pounds</th>\n",
       "      <th>Price</th>\n",
       "      <th>Price-binned</th>\n",
       "      <th>Screen-Full_HD</th>\n",
       "      <th>Screen-IPS_panel</th>\n",
       "    </tr>\n",
       "  </thead>\n",
       "  <tbody>\n",
       "    <tr>\n",
       "      <th>0</th>\n",
       "      <td>0</td>\n",
       "      <td>0</td>\n",
       "      <td>Acer</td>\n",
       "      <td>4</td>\n",
       "      <td>2</td>\n",
       "      <td>1</td>\n",
       "      <td>5</td>\n",
       "      <td>14.0</td>\n",
       "      <td>0.551724</td>\n",
       "      <td>8</td>\n",
       "      <td>256</td>\n",
       "      <td>3.52800</td>\n",
       "      <td>978</td>\n",
       "      <td>Low</td>\n",
       "      <td>0</td>\n",
       "      <td>1</td>\n",
       "    </tr>\n",
       "    <tr>\n",
       "      <th>1</th>\n",
       "      <td>1</td>\n",
       "      <td>1</td>\n",
       "      <td>Dell</td>\n",
       "      <td>3</td>\n",
       "      <td>1</td>\n",
       "      <td>1</td>\n",
       "      <td>3</td>\n",
       "      <td>15.6</td>\n",
       "      <td>0.689655</td>\n",
       "      <td>4</td>\n",
       "      <td>256</td>\n",
       "      <td>4.85100</td>\n",
       "      <td>634</td>\n",
       "      <td>Low</td>\n",
       "      <td>1</td>\n",
       "      <td>0</td>\n",
       "    </tr>\n",
       "    <tr>\n",
       "      <th>2</th>\n",
       "      <td>2</td>\n",
       "      <td>2</td>\n",
       "      <td>Dell</td>\n",
       "      <td>3</td>\n",
       "      <td>1</td>\n",
       "      <td>1</td>\n",
       "      <td>7</td>\n",
       "      <td>15.6</td>\n",
       "      <td>0.931034</td>\n",
       "      <td>8</td>\n",
       "      <td>256</td>\n",
       "      <td>4.85100</td>\n",
       "      <td>946</td>\n",
       "      <td>Low</td>\n",
       "      <td>1</td>\n",
       "      <td>0</td>\n",
       "    </tr>\n",
       "    <tr>\n",
       "      <th>3</th>\n",
       "      <td>3</td>\n",
       "      <td>3</td>\n",
       "      <td>Dell</td>\n",
       "      <td>4</td>\n",
       "      <td>2</td>\n",
       "      <td>1</td>\n",
       "      <td>5</td>\n",
       "      <td>13.3</td>\n",
       "      <td>0.551724</td>\n",
       "      <td>8</td>\n",
       "      <td>128</td>\n",
       "      <td>2.69010</td>\n",
       "      <td>1244</td>\n",
       "      <td>Low</td>\n",
       "      <td>0</td>\n",
       "      <td>1</td>\n",
       "    </tr>\n",
       "    <tr>\n",
       "      <th>4</th>\n",
       "      <td>4</td>\n",
       "      <td>4</td>\n",
       "      <td>HP</td>\n",
       "      <td>4</td>\n",
       "      <td>2</td>\n",
       "      <td>1</td>\n",
       "      <td>7</td>\n",
       "      <td>15.6</td>\n",
       "      <td>0.620690</td>\n",
       "      <td>8</td>\n",
       "      <td>256</td>\n",
       "      <td>4.21155</td>\n",
       "      <td>837</td>\n",
       "      <td>Low</td>\n",
       "      <td>1</td>\n",
       "      <td>0</td>\n",
       "    </tr>\n",
       "  </tbody>\n",
       "</table>\n",
       "</div>"
      ],
      "text/plain": [
       "   Unnamed: 0.1  Unnamed: 0 Manufacturer  Category  GPU  OS  CPU_core  \\\n",
       "0             0           0         Acer         4    2   1         5   \n",
       "1             1           1         Dell         3    1   1         3   \n",
       "2             2           2         Dell         3    1   1         7   \n",
       "3             3           3         Dell         4    2   1         5   \n",
       "4             4           4           HP         4    2   1         7   \n",
       "\n",
       "   Screen_Size_inch  CPU_frequency  RAM_GB  Storage_GB_SSD  Weight_pounds  \\\n",
       "0              14.0       0.551724       8             256        3.52800   \n",
       "1              15.6       0.689655       4             256        4.85100   \n",
       "2              15.6       0.931034       8             256        4.85100   \n",
       "3              13.3       0.551724       8             128        2.69010   \n",
       "4              15.6       0.620690       8             256        4.21155   \n",
       "\n",
       "   Price Price-binned  Screen-Full_HD  Screen-IPS_panel  \n",
       "0    978          Low               0                 1  \n",
       "1    634          Low               1                 0  \n",
       "2    946          Low               1                 0  \n",
       "3   1244          Low               0                 1  \n",
       "4    837          Low               1                 0  "
      ]
     },
     "execution_count": 7,
     "metadata": {},
     "output_type": "execute_result"
    }
   ],
   "source": [
    "df.head()"
   ]
  },
  {
   "cell_type": "markdown",
   "metadata": {},
   "source": [
    "Drop the two unnecessary columns that have been added into the file, 'Unnamed: 0' and 'Unnamed: 0.1'. Use drop to delete these columns.\n"
   ]
  },
  {
   "cell_type": "code",
   "execution_count": 8,
   "metadata": {},
   "outputs": [],
   "source": [
    "df.drop(['Unnamed: 0', 'Unnamed: 0.1'], axis=1, inplace=True)"
   ]
  },
  {
   "cell_type": "markdown",
   "metadata": {},
   "source": [
    "# Task 1 : Using Cross validation to improve the model\n",
    "\n",
    "Divide the dataset into x_data and y_data parameters. Here y_data is the \"Price\" attribute, and x_data has all other attributes in the data set.\n"
   ]
  },
  {
   "cell_type": "markdown",
   "metadata": {},
   "source": [
    "# Tâche 1 : Utiliser la validation croisée pour améliorer le modèle\n",
    "Divisez le jeu de données en paramètres x_data et y_data. Ici, y_data se trouve l’attribut « Price », et x_data a tous les autres attributs de l’ensemble de données."
   ]
  },
  {
   "cell_type": "code",
   "execution_count": 11,
   "metadata": {},
   "outputs": [],
   "source": [
    "# Write your code below and press Shift+Enter to execute \n",
    "y_data=df[\"Price\"]\n",
    "x_data=df.drop(\"Price\", axis=1)"
   ]
  },
  {
   "cell_type": "markdown",
   "metadata": {},
   "source": [
    "<details><summary>Click here for the solution</summary>\n",
    "\n",
    "```python\n",
    "y_data = df['Price']\n",
    "x_data = df.drop('Price',axis=1)\n",
    "```\n",
    "\n",
    "</details>\n"
   ]
  },
  {
   "cell_type": "markdown",
   "metadata": {},
   "source": [
    "Split the data set into training and testing subests such that you reserve 10% of the data set for testing purposes.\n"
   ]
  },
  {
   "cell_type": "markdown",
   "metadata": {},
   "source": [
    "Divisez l’ensemble de données en sous-ensembles d’entraînement et de test de sorte que vous réserviez 10 % de l’ensemble de données à des fins de test."
   ]
  },
  {
   "cell_type": "code",
   "execution_count": 13,
   "metadata": {},
   "outputs": [
    {
     "name": "stdout",
     "output_type": "stream",
     "text": [
      "number of test samples: 24\n",
      "number of training samples: 214\n"
     ]
    }
   ],
   "source": [
    "# Write your code below and press Shift+Enter to execute \n",
    "x_train, x_test, y_train, y_test= train_test_split(x_data, y_data, test_size=0.1, random_state=1 )\n",
    "print(\"number of test samples:\", x_test.shape[0])\n",
    "print(\"number of training samples:\", x_train.shape[0])"
   ]
  },
  {
   "cell_type": "markdown",
   "metadata": {},
   "source": [
    "<details><summary>Click here for the solution</summary>\n",
    "\n",
    "```python\n",
    "x_train, x_test, y_train, y_test = train_test_split(x_data, y_data, test_size=0.10, random_state=1)\n",
    "print(\"number of test samples :\", x_test.shape[0])\n",
    "print(\"number of training samples:\",x_train.shape[0])\n",
    "```\n",
    "\n",
    "</details>\n"
   ]
  },
  {
   "cell_type": "markdown",
   "metadata": {},
   "source": [
    "Create a single variable linear regression model using \"CPU_frequency\" parameter. Print the R^2 value of this model for the training and testing subsets.\n"
   ]
  },
  {
   "cell_type": "markdown",
   "metadata": {},
   "source": [
    "Créez un modèle de régression linéaire à variable unique à l’aide du paramètre « CPU_frequency ». Affiche la valeur R^2 de ce modèle pour les sous-ensembles d’entraînement et de test."
   ]
  },
  {
   "cell_type": "code",
   "execution_count": 17,
   "metadata": {},
   "outputs": [
    {
     "name": "stdout",
     "output_type": "stream",
     "text": [
      "0.14829792099817962\n",
      "-0.06599437350393766\n"
     ]
    }
   ],
   "source": [
    "# Write your code below and press Shift+Enter to execute \n",
    "lre= LinearRegression()\n",
    "lre.fit(x_train[[\"CPU_frequency\"]], y_train)\n",
    "print(lre.score(x_train[[\"CPU_frequency\"]], y_train))\n",
    "print(lre.score(x_test[[\"CPU_frequency\"]], y_test))"
   ]
  },
  {
   "cell_type": "markdown",
   "metadata": {},
   "source": [
    "1. La valeur négative R^2 que vous observez pour vos données de test indique que le modèle de régression linéaire est moins performant qu’une simple ligne horizontale représentant la moyenne des valeurs cibles. Voici comment interpréter les résultats :\n",
    "\n",
    "# R^2 Interprétation :\n",
    "\n",
    "Valeur R^2 : La valeur R^2 (coefficient de détermination) indique la proportion de la variance dans la variable dépendante qui est prévisible à partir de la ou des variables indépendantes.\n",
    "\n",
    "- Un R^2 de 1 signifie que le modèle correspond parfaitement aux données.\n",
    "\n",
    "- Un R^2 de 0 signifie que le modèle ne fait pas mieux que la moyenne de la variable dépendante.\n",
    "\n",
    "- Un R^2 négatif signifie que le modèle fonctionne moins bien que l’utilisation de la moyenne comme prédicteur.\n",
    "\n",
    "\n",
    "# Résultats :\n",
    "\n",
    "Entraînement R2 = 0,1483 : Cela signifie que le modèle peut expliquer environ 14,83 % de la variance des données d’entraînement. Bien qu’il ne s’agisse pas d’une valeur très élevée, cela suggère que le modèle capture certaines des relations dans les données d’entraînement.\n",
    "\n",
    "Test R^2 = -0,066 : cette valeur négative indique que le modèle fonctionne moins bien sur les données de test que si vous aviez simplement prédit la valeur moyenne des valeurs cibles de test pour toutes les instances. Cela suggère que le modèle ne généralise pas bien aux données invisibles."
   ]
  },
  {
   "cell_type": "markdown",
   "metadata": {},
   "source": [
    "Hello  @ MAHI NDOUNG rodrigue,\n",
    "\n",
    "Thanks for your post. We are happy to assist you.\n",
    "\n",
    "1.  The negative R^2 value you are observing for your test data indicates that the linear regression model is performing worse than a simple horizontal line representing the mean of the target values. Here’s how to interpret the results:\n",
    "\n",
    "# R^2 Interpretation:\n",
    "\n",
    "R^2 Value: The R^2 (coefficient of determination) value indicates the proportion of the variance in the dependent variable that is predictable from the independent variable(s).\n",
    "\n",
    "- An R^2 of 1 means the model perfectly fits the data.\n",
    "\n",
    "- An R^2 of 0 means the model does no better than the mean of the dependent variable.\n",
    "\n",
    "- A negative R^2 means the model performs worse than using the mean as the predictor.\n",
    "\n",
    "# Results:\n",
    "\n",
    "Training R2 = 0.1483: This means that the model can explain approximately 14.83% of the variance in the training data. While not a very high value, it suggests that the model captures some of the relationships in the training data.\n",
    "\n",
    "Test R^2 = -0.066: This negative value indicates that the model performs worse on the test data than if you had just predicted the mean value of the test target values for all instances. This suggests that the model is not generalizing well to unseen data."
   ]
  },
  {
   "cell_type": "markdown",
   "metadata": {},
   "source": [
    "<details><summary>Click here for the solution</summary>\n",
    "\n",
    "```python\n",
    "lre=LinearRegression()\n",
    "lre.fit(x_train[['CPU_frequency']], y_train)\n",
    "print(lre.score(x_test[['CPU_frequency']], y_test))\n",
    "print(lre.score(x_train[['CPU_frequency']], y_train))\n",
    "```\n",
    "\n",
    "</details>\n"
   ]
  },
  {
   "cell_type": "markdown",
   "metadata": {},
   "source": [
    "Run a 4-fold cross validation on the model and print the mean value of R^2 score along with its standard deviation.\n"
   ]
  },
  {
   "cell_type": "code",
   "execution_count": null,
   "metadata": {},
   "outputs": [],
   "source": [
    "Exécutez une validation croisée 4 fois sur le modèle et imprimez la valeur moyenne du score R^2 ainsi que son écart-type."
   ]
  },
  {
   "cell_type": "code",
   "execution_count": null,
   "metadata": {},
   "outputs": [],
   "source": [
    "\"The mean of the folds are\" :« La moyenne des plis sont »"
   ]
  },
  {
   "cell_type": "code",
   "execution_count": 18,
   "metadata": {},
   "outputs": [
    {
     "name": "stdout",
     "output_type": "stream",
     "text": [
      "The mean of the folds are -0.11427029299001601 and standard deviation is 0.0694864712416502\n"
     ]
    }
   ],
   "source": [
    "# Write your code below and press Shift+Enter to execute \n",
    "Rcross = cross_val_score(lre, x_data[[\"CPU_frequency\"]], y_data, cv=2)\n",
    "print(\"The mean of the folds are\", Rcross.mean(), \"and standard deviation is\", Rcross.std())\n"
   ]
  },
  {
   "cell_type": "markdown",
   "metadata": {},
   "source": [
    "2. Voici comment interpréter la sortie :\n",
    "\n",
    "Résultats de la validation croisée :\n",
    "\n",
    "1. Moyenne des plis : -0,1611\n",
    "\n",
    "2. Écart-type : 0,3850\n",
    "\n",
    "Interprétation:\n",
    "\n",
    "1. ### Moyenne des plis (-0,1611) :\n",
    "\n",
    "Le score moyen R^2 sur les 4 plis est de -0,1611. Cette moyenne négative R^2 indique qu’en moyenne, votre modèle est moins performant qu’une simple ligne horizontale (la moyenne de la variable cible) pour les plis de validation croisée.\n",
    "\n",
    "Un R^2 négatif suggère que le modèle ne capture pas efficacement la relation entre CPU_frequency et la variable cible et qu’il surajuste potentiellement les données d’entraînement ou ne capture pas du tout le modèle sous-jacent.\n",
    "\n",
    "2. ### Écart-type (0,3850) :\n",
    "\n",
    "L’écart-type des scores R^2 à travers les plis est de 0,3850. Cet écart-type relativement élevé indique une variabilité des performances du modèle entre différents sous-ensembles de données.\n",
    "\n",
    "Un écart-type élevé suggère que les performances du modèle ne sont pas cohérentes et peuvent varier considérablement en fonction du sous-ensemble particulier de données sur lequel il est entraîné. Cette variabilité peut être due à plusieurs facteurs, tels que la sensibilité du modèle aux données d’entraînement spécifiques ou le bruit inhérent aux données."
   ]
  },
  {
   "cell_type": "markdown",
   "metadata": {},
   "source": [
    "2.  Here's how to interpret the output:\n",
    "\n",
    "Cross-Validation Results:\n",
    "\n",
    "1.Mean of the Folds: -0.1611\n",
    "\n",
    "2.Standard Deviation: 0.3850\n",
    "\n",
    "Interpretation:\n",
    "\n",
    "1. ### Mean of the Folds (-0.1611):\n",
    "\n",
    "The mean R^2 score across the 4 folds is -0.1611. This negative mean R^2 indicates that, on average, your model performs worse than a simple horizontal line (the mean of the target variable) for the cross-validation folds.\n",
    "\n",
    "A negative R^2 suggests that the model is not capturing the relationship between CPU_frequency and the target variable effectively and is potentially overfitting the training data or not capturing the underlying pattern at all.\n",
    "\n",
    "2. ### Standard Deviation (0.3850):\n",
    "\n",
    "The standard deviation of the R^2 scores across the folds is 0.3850. This relatively high standard deviation indicates variability in the model performance across different subsets of the data.\n",
    "\n",
    "A high standard deviation suggests that the model’s performance is not consistent and can vary significantly depending on the particular subset of data it is trained on. This variability can be due to several factors, such as the model’s sensitivity to the specific training data or inherent noise in the data."
   ]
  },
  {
   "cell_type": "markdown",
   "metadata": {},
   "source": [
    "<details><summary>Click here for the solution</summary>\n",
    "\n",
    "```python\n",
    "Rcross = cross_val_score(lre, x_data[['CPU_frequency']], y_data, cv=4)\n",
    "print(\"The mean of the folds are\", Rcross.mean(), \"and the standard deviation is\" , Rcross.std())\n",
    "```\n",
    "\n",
    "</details>\n"
   ]
  },
  {
   "cell_type": "markdown",
   "metadata": {},
   "source": [
    "# Task 2: Overfitting\n",
    "\n",
    "Split the data set into training and testing components again, this time reserving 50% of the data set for testing.\n"
   ]
  },
  {
   "cell_type": "markdown",
   "metadata": {},
   "source": [
    "Divisez à nouveau l’ensemble de données en composants d’entraînement et de test, en réservant cette fois 50 % de l’ensemble de données pour les tests."
   ]
  },
  {
   "cell_type": "code",
   "execution_count": 20,
   "metadata": {},
   "outputs": [],
   "source": [
    "# Write your code below and press Shift+Enter to execute \n",
    "x_train, x_test, y_train, y_test = train_test_split(x_data, y_data, test_size=0.5, random_state=0)\n",
    "\n",
    "#  La fixation de random_state à une quantité fixe permet de maintenir l’uniformité entre plusieurs\n",
    "#  exécutions du code."
   ]
  },
  {
   "cell_type": "markdown",
   "metadata": {},
   "source": [
    "<details><summary>Click here for the solution</summary>\n",
    "\n",
    "```python\n",
    "x_train, x_test, y_train, y_test = train_test_split(x_data, y_data, test_size=0.5, random_state=0)\n",
    "# fixing random_state to a fixed quantity helps maintain uniformity between multiple \n",
    "# executions of the code.\n",
    "```\n",
    "\n",
    "</details>\n"
   ]
  },
  {
   "cell_type": "markdown",
   "metadata": {},
   "source": [
    "To identify the point of overfitting the model on the parameter \"CPU_frequency\", you'll need to create polynomial features using the single attribute. \n",
    "You need to evaluate the R^2 scores of the model created using different degrees of polynomial features, ranging from 1 to 5. Save this set of values of R^2 score as a list.\n"
   ]
  },
  {
   "cell_type": "markdown",
   "metadata": {},
   "source": [
    "Pour identifier le point de surajustement du modèle sur le paramètre « CPU_frequency », vous devez créer des entités polynomiales à l’aide de l’attribut unique. Vous devez évaluer les scores R^2 du modèle créé à l’aide de différents degrés de caractéristiques polynomiales, allant de 1 à 5. Enregistrez cet ensemble de valeurs du score R^2 sous forme de liste."
   ]
  },
  {
   "cell_type": "code",
   "execution_count": 23,
   "metadata": {},
   "outputs": [],
   "source": [
    "# Write your code below and press Shift+Enter to execute \n",
    "lre= LinearRegression()\n",
    "Rsqu_test=[]\n",
    "order= [1, 2, 3, 4, 5]\n",
    "for n in order:\n",
    "    pr = PolynomialFeatures(degree=n)\n",
    "    x_train_pr = pr.fit_transform(x_train[['CPU_frequency']])\n",
    "    x_test_pr = pr.fit_transform(x_test[['CPU_frequency']])\n",
    "    lre.fit(x_train_pr, y_train)\n",
    "    Rsqu_test.append(lre.score(x_test_pr, y_test))\n",
    "    "
   ]
  },
  {
   "cell_type": "markdown",
   "metadata": {},
   "source": [
    "<details><summary>Click here for the solution</summary>\n",
    "\n",
    "```python\n",
    "lre = LinearRegression()\n",
    "Rsqu_test = []\n",
    "order = [1, 2, 3, 4, 5]\n",
    "for n in order:\n",
    "    pr = PolynomialFeatures(degree=n)\n",
    "    x_train_pr = pr.fit_transform(x_train[['CPU_frequency']])\n",
    "    x_test_pr = pr.fit_transform(x_test[['CPU_frequency']])    \n",
    "    lre.fit(x_train_pr, y_train)\n",
    "    Rsqu_test.append(lre.score(x_test_pr, y_test))\n",
    "```\n",
    "\n",
    "</details>\n"
   ]
  },
  {
   "cell_type": "markdown",
   "metadata": {},
   "source": [
    "Plot the values of R^2 scores against the order. Note the point where the score drops.\n"
   ]
  },
  {
   "cell_type": "code",
   "execution_count": null,
   "metadata": {},
   "outputs": [],
   "source": [
    "Tracez les valeurs des scores R^2 par rapport à l’ordre. Notez le point où le score baisse."
   ]
  },
  {
   "cell_type": "code",
   "execution_count": 24,
   "metadata": {},
   "outputs": [
    {
     "data": {
      "text/plain": [
       "Text(0.5, 1.0, 'R^2 Using Test Data')"
      ]
     },
     "execution_count": 24,
     "metadata": {},
     "output_type": "execute_result"
    },
    {
     "data": {
      "image/png": "[encoded data removed]",
      "text/plain": [
       "<Figure size 640x480 with 1 Axes>"
      ]
     },
     "metadata": {},
     "output_type": "display_data"
    }
   ],
   "source": [
    "# Write your code below and press Shift+Enter to execute \n",
    "plt.plot(order, Rsqu_test)\n",
    "plt.xlabel(\"order\")\n",
    "plt.ylabel(\"R^2\")\n",
    "plt.title(\"R^2 Using Test Data\")"
   ]
  },
  {
   "cell_type": "markdown",
   "metadata": {},
   "source": [
    "<details><summary>Click here for the solution</summary>\n",
    "\n",
    "```python\n",
    "plt.plot(order, Rsqu_test)\n",
    "plt.xlabel('order')\n",
    "plt.ylabel('R^2')\n",
    "plt.title('R^2 Using Test Data')\n",
    "```\n",
    "\n",
    "</details>\n"
   ]
  },
  {
   "cell_type": "markdown",
   "metadata": {},
   "source": [
    "# Task 3 : Ridge Regression\n",
    "\n",
    "Now consider that you have multiple features, i.e. 'CPU_frequency', 'RAM_GB', 'Storage_GB_SSD', 'CPU_core','OS','GPU' and 'Category'. Create a polynomial feature model that uses all these parameters with degree=2. Also create the training and testing attribute sets.\n"
   ]
  },
  {
   "cell_type": "markdown",
   "metadata": {},
   "source": [
    "Considérez maintenant que vous avez plusieurs fonctionnalités, c’est-à-dire 'CPU_frequency', 'RAM_GB', 'Storage_GB_SSD', 'CPU_core''OS', 'GPU' et 'Catégorie'. Créez un modèle de caractéristiques polynomiales qui utilise tous ces paramètres avec degree=2. Créez également les ensembles d’attributs d’entraînement et de test."
   ]
  },
  {
   "cell_type": "code",
   "execution_count": 26,
   "metadata": {},
   "outputs": [],
   "source": [
    "# Write your code below and press Shift+Enter to execute \n",
    "pr = PolynomialFeatures( degree = 2)\n",
    "x_train_pr = pr.fit_transform(x_train[['CPU_frequency', 'RAM_GB', 'Storage_GB_SSD', 'CPU_core','OS','GPU',  'Category']])\n",
    "x_test_pr = pr.fit_transform(x_test[['CPU_frequency', 'RAM_GB', 'Storage_GB_SSD', 'CPU_core','OS','GPU',  'Category']])"
   ]
  },
  {
   "cell_type": "markdown",
   "metadata": {},
   "source": [
    "<details><summary>Click here for the solution</summary>\n",
    "\n",
    "```python\n",
    "pr=PolynomialFeatures(degree=2)\n",
    "x_train_pr=pr.fit_transform(x_train[['CPU_frequency', 'RAM_GB', 'Storage_GB_SSD', 'CPU_core', 'OS', 'GPU', 'Category']])\n",
    "x_test_pr=pr.fit_transform(x_test[['CPU_frequency', 'RAM_GB', 'Storage_GB_SSD', 'CPU_core', 'OS', 'GPU', 'Category']])\n",
    "```\n",
    "\n",
    "</details>\n"
   ]
  },
  {
   "cell_type": "markdown",
   "metadata": {},
   "source": [
    "Create a Ridge Regression model and evaluate it using values of the hyperparameter alpha ranging from 0.001 to 1 with increments of 0.001. \n",
    "Create a list of all Ridge Regression R^2 scores for training and testing data. \n"
   ]
  },
  {
   "cell_type": "markdown",
   "metadata": {},
   "source": [
    "Créez un modèle de régression de crête et évaluez-le à l’aide des valeurs de l’hyperparamètre alpha comprises entre 0,001 et 1 avec des incréments de 0,001. Créez une liste de tous les scores R^2 de la régression de crête pour les données d’entraînement et de test."
   ]
  },
  {
   "cell_type": "code",
   "execution_count": 28,
   "metadata": {},
   "outputs": [
    {
     "name": "stderr",
     "output_type": "stream",
     "text": [
      "<ipython-input-28-a19ba6572580>:5: TqdmMonitorWarning: tqdm:disabling monitor support (monitor_interval = 0) due to:\n",
      "can't start new thread\n",
      "  pbar= tqdm(Alpha)\n",
      "100%|██████████| 999/999 [00:07<00:00, 129.15it/s, Test Score=0.423, Train Score=0.669]\n"
     ]
    }
   ],
   "source": [
    "# Write your code below and press Shift+Enter to execute \n",
    "Rsqu_test = []\n",
    "Rsqu_train = []\n",
    "Alpha = np.arange(0.001, 1, 0.001)\n",
    "pbar= tqdm(Alpha)\n",
    "\n",
    "for alpha in pbar:\n",
    "    RidgeModel = Ridge(alpha=alpha)\n",
    "    RidgeModel.fit(x_train_pr, y_train)\n",
    "    test_score, train_score= RidgeModel.score(x_test_pr, y_test), RidgeModel.score(x_train_pr, y_train)\n",
    "    pbar.set_postfix({\"Test Score\": test_score, \"Train Score\": train_score})\n",
    "    Rsqu_test.append(test_score)\n",
    "    Rsqu_train.append(train_score)"
   ]
  },
  {
   "cell_type": "markdown",
   "metadata": {},
   "source": [
    "<details><summary>Click here for the solution</summary>\n",
    "\n",
    "```python\n",
    "Rsqu_test = []\n",
    "Rsqu_train = []\n",
    "Alpha = np.arange(0.001,1,0.001)\n",
    "pbar = tqdm(Alpha)\n",
    "\n",
    "for alpha in pbar:\n",
    "    RigeModel = Ridge(alpha=alpha) \n",
    "    RigeModel.fit(x_train_pr, y_train)\n",
    "    test_score, train_score = RigeModel.score(x_test_pr, y_test), RigeModel.score(x_train_pr, y_train)\n",
    "    pbar.set_postfix({\"Test Score\": test_score, \"Train Score\": train_score})\n",
    "    Rsqu_test.append(test_score)\n",
    "    Rsqu_train.append(train_score)\n",
    "```\n",
    "\n",
    "</details>\n"
   ]
  },
  {
   "cell_type": "markdown",
   "metadata": {},
   "source": [
    "Plot the R^2 values for training and testing sets with respect to the value of alpha\n"
   ]
  },
  {
   "cell_type": "code",
   "execution_count": 29,
   "metadata": {},
   "outputs": [
    {
     "data": {
      "text/plain": [
       "<matplotlib.legend.Legend at 0xed7d570>"
      ]
     },
     "execution_count": 29,
     "metadata": {},
     "output_type": "execute_result"
    },
    {
     "data": {
      "image/png": "[encoded data removed]",
      "text/plain": [
       "<Figure size 1000x600 with 1 Axes>"
      ]
     },
     "metadata": {},
     "output_type": "display_data"
    }
   ],
   "source": [
    "# Write your code below and press Shift+Enter to execute \n",
    "plt.figure(figsize=(10, 6))\n",
    "plt.plot(Alpha, Rsqu_test, label=\"validation data\")\n",
    "plt.plot(Alpha, Rsqu_train, 'r', label='training data')\n",
    "plt.xlabel('alpha')\n",
    "plt.ylabel('R^2')\n",
    "plt.ylim(0,1)\n",
    "plt.legend()"
   ]
  },
  {
   "cell_type": "markdown",
   "metadata": {},
   "source": [
    "<details><summary>Click here for the solution</summary>\n",
    "\n",
    "```python\n",
    "plt.figure(figsize=(10, 6))  \n",
    "plt.plot(Alpha, Rsqu_test, label='validation data')\n",
    "plt.plot(Alpha, Rsqu_train, 'r', label='training Data')\n",
    "plt.xlabel('alpha')\n",
    "plt.ylabel('R^2')\n",
    "plt.ylim(0, 1)\n",
    "plt.legend()\n",
    "```\n",
    "\n",
    "</details>\n"
   ]
  },
  {
   "cell_type": "markdown",
   "metadata": {},
   "source": [
    "# Task 4: Grid Search\n",
    "\n",
    "Using the raw data and the same set of features as used above, use GridSearchCV to identify the value of alpha for which the model performs best. \n",
    "Assume the set of alpha values to be used as\n",
    "```math\n",
    "{0.0001, 0.001, 0.01, 0.1, 1, 10}\n",
    "```\n"
   ]
  },
  {
   "cell_type": "markdown",
   "metadata": {},
   "source": [
    "En utilisant les données brutes et le même ensemble de caractéristiques que celui utilisé ci-dessus, utilisez GridSearchCV pour identifier la valeur d’alpha pour laquelle le modèle fonctionne le mieux. Supposons que l’ensemble des valeurs alpha soit utilisé comme\n",
    "\n",
    "{0.0001, 0.001, 0.01, 0.1, 1, 10}"
   ]
  },
  {
   "cell_type": "code",
   "execution_count": 30,
   "metadata": {},
   "outputs": [],
   "source": [
    "# Write your code below and press Shift+Enter to execute \n",
    "parameters1 = [{\"alpha\" : [0.0001, 0.001, 0.01, 0.1, 1, 10]}]"
   ]
  },
  {
   "cell_type": "markdown",
   "metadata": {},
   "source": [
    "<details><summary>Click here for the solution</summary>\n",
    "\n",
    "```python\n",
    "parameters1= [{'alpha': [0.0001,0.001,0.01, 0.1, 1, 10]}]\n",
    "```\n",
    "\n",
    "</details>\n"
   ]
  },
  {
   "cell_type": "markdown",
   "metadata": {},
   "source": [
    "Create a Ridge instance and run Grid Search using a 4 fold cross validation.\n"
   ]
  },
  {
   "cell_type": "code",
   "execution_count": null,
   "metadata": {},
   "outputs": [],
   "source": [
    "Créez une instance Ridge et exécutez Grid Search à l’aide d’une validation croisée 4 fois."
   ]
  },
  {
   "cell_type": "code",
   "execution_count": 32,
   "metadata": {},
   "outputs": [],
   "source": [
    "# Write your code below and press Shift+Enter to execute \n",
    "RR = Ridge()\n",
    "Grid1 = GridSearchCV(RR, parameters1,  cv=4)"
   ]
  },
  {
   "cell_type": "markdown",
   "metadata": {},
   "source": [
    "<details><summary>Click here for the solution</summary>\n",
    "\n",
    "```python\n",
    "RR=Ridge()\n",
    "Grid1 = GridSearchCV(RR, parameters1,cv=4)\n",
    "```\n",
    "</details>\n"
   ]
  },
  {
   "cell_type": "markdown",
   "metadata": {},
   "source": [
    "Fit the Grid Search to the training data.\n"
   ]
  },
  {
   "cell_type": "code",
   "execution_count": 33,
   "metadata": {},
   "outputs": [
    {
     "data": {
      "text/html": [
       "<style>#sk-container-id-1 {color: black;}#sk-container-id-1 pre{padding: 0;}#sk-container-id-1 div.sk-toggleable {background-color: white;}#sk-container-id-1 label.sk-toggleable__label {cursor: pointer;display: block;width: 100%;margin-bottom: 0;padding: 0.3em;box-sizing: border-box;text-align: center;}#sk-container-id-1 label.sk-toggleable__label-arrow:before {content: \"▸\";float: left;margin-right: 0.25em;color: #696969;}#sk-container-id-1 label.sk-toggleable__label-arrow:hover:before {color: black;}#sk-container-id-1 div.sk-estimator:hover label.sk-toggleable__label-arrow:before {color: black;}#sk-container-id-1 div.sk-toggleable__content {max-height: 0;max-width: 0;overflow: hidden;text-align: left;background-color: #f0f8ff;}#sk-container-id-1 div.sk-toggleable__content pre {margin: 0.2em;color: black;border-radius: 0.25em;background-color: #f0f8ff;}#sk-container-id-1 input.sk-toggleable__control:checked~div.sk-toggleable__content {max-height: 200px;max-width: 100%;overflow: auto;}#sk-container-id-1 input.sk-toggleable__control:checked~label.sk-toggleable__label-arrow:before {content: \"▾\";}#sk-container-id-1 div.sk-estimator input.sk-toggleable__control:checked~label.sk-toggleable__label {background-color: #d4ebff;}#sk-container-id-1 div.sk-label input.sk-toggleable__control:checked~label.sk-toggleable__label {background-color: #d4ebff;}#sk-container-id-1 input.sk-hidden--visually {border: 0;clip: rect(1px 1px 1px 1px);clip: rect(1px, 1px, 1px, 1px);height: 1px;margin: -1px;overflow: hidden;padding: 0;position: absolute;width: 1px;}#sk-container-id-1 div.sk-estimator {font-family: monospace;background-color: #f0f8ff;border: 1px dotted black;border-radius: 0.25em;box-sizing: border-box;margin-bottom: 0.5em;}#sk-container-id-1 div.sk-estimator:hover {background-color: #d4ebff;}#sk-container-id-1 div.sk-parallel-item::after {content: \"\";width: 100%;border-bottom: 1px solid gray;flex-grow: 1;}#sk-container-id-1 div.sk-label:hover label.sk-toggleable__label {background-color: #d4ebff;}#sk-container-id-1 div.sk-serial::before {content: \"\";position: absolute;border-left: 1px solid gray;box-sizing: border-box;top: 0;bottom: 0;left: 50%;z-index: 0;}#sk-container-id-1 div.sk-serial {display: flex;flex-direction: column;align-items: center;background-color: white;padding-right: 0.2em;padding-left: 0.2em;position: relative;}#sk-container-id-1 div.sk-item {position: relative;z-index: 1;}#sk-container-id-1 div.sk-parallel {display: flex;align-items: stretch;justify-content: center;background-color: white;position: relative;}#sk-container-id-1 div.sk-item::before, #sk-container-id-1 div.sk-parallel-item::before {content: \"\";position: absolute;border-left: 1px solid gray;box-sizing: border-box;top: 0;bottom: 0;left: 50%;z-index: -1;}#sk-container-id-1 div.sk-parallel-item {display: flex;flex-direction: column;z-index: 1;position: relative;background-color: white;}#sk-container-id-1 div.sk-parallel-item:first-child::after {align-self: flex-end;width: 50%;}#sk-container-id-1 div.sk-parallel-item:last-child::after {align-self: flex-start;width: 50%;}#sk-container-id-1 div.sk-parallel-item:only-child::after {width: 0;}#sk-container-id-1 div.sk-dashed-wrapped {border: 1px dashed gray;margin: 0 0.4em 0.5em 0.4em;box-sizing: border-box;padding-bottom: 0.4em;background-color: white;}#sk-container-id-1 div.sk-label label {font-family: monospace;font-weight: bold;display: inline-block;line-height: 1.2em;}#sk-container-id-1 div.sk-label-container {text-align: center;}#sk-container-id-1 div.sk-container {/* jupyter's `normalize.less` sets `[hidden] { display: none; }` but bootstrap.min.css set `[hidden] { display: none !important; }` so we also need the `!important` here to be able to override the default hidden behavior on the sphinx rendered scikit-learn.org. See: https://github.com/scikit-learn/scikit-learn/issues/21755 */display: inline-block !important;position: relative;}#sk-container-id-1 div.sk-text-repr-fallback {display: none;}</style><div id=\"sk-container-id-1\" class=\"sk-top-container\"><div class=\"sk-text-repr-fallback\"><pre>GridSearchCV(cv=4, estimator=Ridge(),\n",
       "             param_grid=[{&#x27;alpha&#x27;: [0.0001, 0.001, 0.01, 0.1, 1, 10]}])</pre><b>In a Jupyter environment, please rerun this cell to show the HTML representation or trust the notebook. <br />On GitHub, the HTML representation is unable to render, please try loading this page with nbviewer.org.</b></div><div class=\"sk-container\" hidden><div class=\"sk-item sk-dashed-wrapped\"><div class=\"sk-label-container\"><div class=\"sk-label sk-toggleable\"><input class=\"sk-toggleable__control sk-hidden--visually\" id=\"sk-estimator-id-1\" type=\"checkbox\" ><label for=\"sk-estimator-id-1\" class=\"sk-toggleable__label sk-toggleable__label-arrow\">GridSearchCV</label><div class=\"sk-toggleable__content\"><pre>GridSearchCV(cv=4, estimator=Ridge(),\n",
       "             param_grid=[{&#x27;alpha&#x27;: [0.0001, 0.001, 0.01, 0.1, 1, 10]}])</pre></div></div></div><div class=\"sk-parallel\"><div class=\"sk-parallel-item\"><div class=\"sk-item\"><div class=\"sk-label-container\"><div class=\"sk-label sk-toggleable\"><input class=\"sk-toggleable__control sk-hidden--visually\" id=\"sk-estimator-id-2\" type=\"checkbox\" ><label for=\"sk-estimator-id-2\" class=\"sk-toggleable__label sk-toggleable__label-arrow\">estimator: Ridge</label><div class=\"sk-toggleable__content\"><pre>Ridge()</pre></div></div></div><div class=\"sk-serial\"><div class=\"sk-item\"><div class=\"sk-estimator sk-toggleable\"><input class=\"sk-toggleable__control sk-hidden--visually\" id=\"sk-estimator-id-3\" type=\"checkbox\" ><label for=\"sk-estimator-id-3\" class=\"sk-toggleable__label sk-toggleable__label-arrow\">Ridge</label><div class=\"sk-toggleable__content\"><pre>Ridge()</pre></div></div></div></div></div></div></div></div></div></div>"
      ],
      "text/plain": [
       "GridSearchCV(cv=4, estimator=Ridge(),\n",
       "             param_grid=[{'alpha': [0.0001, 0.001, 0.01, 0.1, 1, 10]}])"
      ]
     },
     "execution_count": 33,
     "metadata": {},
     "output_type": "execute_result"
    }
   ],
   "source": [
    "Grid1.fit(x_train[['CPU_frequency', 'RAM_GB', 'Storage_GB_SSD', 'CPU_core','OS','GPU',  'Category']], y_train)"
   ]
  },
  {
   "cell_type": "markdown",
   "metadata": {},
   "source": [
    "3. L’application de GridSearchCV à un modèle Ridge (ou à n’importe quel modèle) est destinée à trouver le meilleur ensemble d’hyperparamètres qui améliorent les performances du modèle. Cependant, il n’est pas rare que le score R^2 des données de test diminue après le réglage des hyperparamètres. Voici quelques raisons pour lesquelles cela peut se produire et si c’est normal :\n",
    "\n",
    "Raisons de la diminution du score R^2 :\n",
    "\n",
    "1. Surajustement sur l’ensemble de validation croisée :\n",
    "    \n",
    "- GridSearchCV optimise les hyperparamètres en fonction des performances de validation croisée. Les hyperparamètres sélectionnés peuvent bien fonctionner sur les plis de validation croisée mais surajuster les données d’entraînement, ce qui entraîne de moins bonnes performances sur l’ensemble de test.\n",
    "\n",
    "2. Variabilité des données :\n",
    "\n",
    "- Si l’ensemble de test ne représente pas les ensembles d’entraînement/validation croisée, le modèle peut avoir de mauvais résultats sur l’ensemble de test malgré de bons résultats sur les plis de validation croisée.\n",
    "\n",
    "3. Complexité des hyperparamètres :\n",
    "\n",
    "- La régression de crête implique la régularisation, ce qui ajoute de la complexité au modèle. Si le paramètre de régularisation optimal (alpha) trouvé par GridSearchCV n’est pas approprié pour les données de test, cela peut entraîner de moins bonnes performances.\n",
    "\n",
    "4. Caractère aléatoire dans les divisions de données :\n",
    "\n",
    "- Les résultats de la validation croisée peuvent varier en fonction de la façon dont les données sont divisées en plis. Des fractionnements différents peuvent conduire à des sélections d’hyperparamètres différentes.\n",
    "\n",
    "Bon apprentissage !   "
   ]
  },
  {
   "cell_type": "markdown",
   "metadata": {},
   "source": [
    "3.  Applying GridSearchCV to a Ridge model (or any model) is intended to find the best set of hyperparameters that improve model performance. However, it is not uncommon for the R^2 score of the test data to decrease after hyperparameter tuning. Here are some reasons why this might happen and whether it is normal:\n",
    "\n",
    "Reasons for Decrease in R^2 Score:\n",
    "\n",
    "1. Overfitting on Cross-Validation Set:\n",
    "\n",
    "- GridSearchCV optimizes hyperparameters based on cross-validation performance. The selected hyperparameters may perform well on the cross-validation folds but overfit the training data, leading to worse performance on the test set.\n",
    "\n",
    "2. Data Variability:\n",
    "\n",
    "- If the test set does not represent the training/cross-validation sets, the model might perform poorly on the test set despite performing well on the cross-validation folds.\n",
    "\n",
    "3. Complexity of Hyperparameters:\n",
    "\n",
    "- Ridge regression involves regularization, which adds complexity to the model. If the optimal regularization parameter (alpha) found by GridSearchCV is not appropriate for the test data, it can lead to poorer performance.\n",
    "\n",
    "4. Randomness in Data Splits:\n",
    "\n",
    "- Cross-validation results can vary depending on how the data is split into folds. Different splits might lead to different hyperparameter selections.\n",
    "\n",
    "Happy Learning!"
   ]
  },
  {
   "cell_type": "markdown",
   "metadata": {},
   "source": [
    "<details><summary>Click here for the solution</summary>\n",
    "\n",
    "```python\n",
    "Grid1.fit(x_train[['CPU_frequency', 'RAM_GB', 'Storage_GB_SSD', 'CPU_core', 'OS', 'GPU', 'Category']], y_train)\n",
    "```\n",
    "</details>\n"
   ]
  },
  {
   "cell_type": "markdown",
   "metadata": {},
   "source": [
    "Print the R^2 score for the test data using the estimator that uses the derived optimum value of alpha.\n"
   ]
  },
  {
   "cell_type": "code",
   "execution_count": 34,
   "metadata": {},
   "outputs": [
    {
     "name": "stdout",
     "output_type": "stream",
     "text": [
      "0.3009905048691819\n"
     ]
    }
   ],
   "source": [
    "# Write your code below and press Shift+Enter to execute \n",
    "BestRR = Grid1.best_estimator_\n",
    "print(BestRR.score(x_test[['CPU_frequency', 'RAM_GB', 'Storage_GB_SSD', 'CPU_core','OS','GPU',  'Category']], y_test))"
   ]
  },
  {
   "cell_type": "markdown",
   "metadata": {},
   "source": [
    "<details><summary>Click here for the solution</summary>\n",
    "\n",
    "```python\n",
    "BestRR=Grid1.best_estimator_\n",
    "print(BestRR.score(x_test[['CPU_frequency', 'RAM_GB', 'Storage_GB_SSD', 'CPU_core','OS','GPU','Category']], y_test))\n",
    "```\n",
    "</details>\n"
   ]
  },
  {
   "cell_type": "markdown",
   "metadata": {},
   "source": [
    "# Congratulations! You have completed the lab\n"
   ]
  },
  {
   "cell_type": "markdown",
   "metadata": {},
   "source": [
    "## Authors\n"
   ]
  },
  {
   "cell_type": "markdown",
   "metadata": {},
   "source": [
    "[Abhishek Gagneja](https://www.coursera.org/instructor/~129186572)\n",
    "\n",
    "[Vicky Kuo](https://author.skills.network/instructors/vicky_kuo)\n"
   ]
  },
  {
   "cell_type": "markdown",
   "metadata": {},
   "source": [
    "## Change Log\n"
   ]
  },
  {
   "cell_type": "markdown",
   "metadata": {},
   "source": [
    "|Date (YYYY-MM-DD)|Version|Changed By|Change Description|\n",
    "|-|-|-|-|\n",
    "|2023-09-16|0.1|Abhishek Gagneja|Initial Version Created|\n",
    "|2023-09-19|0.2|Vicky Kuo|Reviewed and Revised|\n"
   ]
  },
  {
   "cell_type": "markdown",
   "metadata": {},
   "source": [
    "Copyright © 2023 IBM Corporation. All rights reserved.\n"
   ]
  }
 ],
 "metadata": {
  "kernelspec": {
   "display_name": "Python 3 (ipykernel)",
   "language": "python",
   "name": "python3"
  },
  "language_info": {
   "codemirror_mode": {
    "name": "ipython",
    "version": 3
   },
   "file_extension": ".py",
   "mimetype": "text/x-python",
   "name": "python",
   "nbconvert_exporter": "python",
   "pygments_lexer": "ipython3",
   "version": "3.9.13"
  }
 },
 "nbformat": 4,
 "nbformat_minor": 4
}
